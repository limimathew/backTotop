{
  "nbformat": 4,
  "nbformat_minor": 0,
  "metadata": {
    "colab": {
      "name": "python.ipynp",
      "provenance": [],
      "collapsed_sections": [],
      "authorship_tag": "ABX9TyPKGyXg64CbojjS9lJKOcTq",
      "include_colab_link": true
    },
    "kernelspec": {
      "name": "python3",
      "display_name": "Python 3"
    }
  },
  "cells": [
    {
      "cell_type": "markdown",
      "metadata": {
        "id": "view-in-github",
        "colab_type": "text"
      },
      "source": [
        "<a href=\"https://colab.research.google.com/github/limimathew/backTotop/blob/master/python_ipynp.ipynb\" target=\"_parent\"><img src=\"https://colab.research.google.com/assets/colab-badge.svg\" alt=\"Open In Colab\"/></a>"
      ]
    },
    {
      "cell_type": "markdown",
      "metadata": {
        "id": "s9KB2YxsLgk5",
        "colab_type": "text"
      },
      "source": [
        "PYTHON BASIS\n"
      ]
    },
    {
      "cell_type": "markdown",
      "metadata": {
        "id": "rOBx4hpNLqyX",
        "colab_type": "text"
      },
      "source": [
        "# PYTHON BASICS\n"
      ]
    },
    {
      "cell_type": "markdown",
      "metadata": {
        "id": "blGxoffHMlfe",
        "colab_type": "text"
      },
      "source": [
        "# # \n",
        "STRING\n",
        "\n"
      ]
    },
    {
      "cell_type": "code",
      "metadata": {
        "id": "GX3EzFI8MqfH",
        "colab_type": "code",
        "colab": {
          "base_uri": "https://localhost:8080/",
          "height": 34
        },
        "outputId": "9f96b7d0-e47e-4ea6-d870-88e32a2617ef"
      },
      "source": [
        "str=('apple')\n",
        "print(str)"
      ],
      "execution_count": 26,
      "outputs": [
        {
          "output_type": "stream",
          "text": [
            "apple\n"
          ],
          "name": "stdout"
        }
      ]
    },
    {
      "cell_type": "code",
      "metadata": {
        "id": "TngQyZW7NKB-",
        "colab_type": "code",
        "colab": {
          "base_uri": "https://localhost:8080/",
          "height": 34
        },
        "outputId": "130c1829-a68e-47f7-8e7f-9074076510b9"
      },
      "source": [
        "str1=('apple','orange','banana')\n",
        "print(str1)"
      ],
      "execution_count": 3,
      "outputs": [
        {
          "output_type": "stream",
          "text": [
            "('apple', 'orange', 'banana')\n"
          ],
          "name": "stdout"
        }
      ]
    },
    {
      "cell_type": "code",
      "metadata": {
        "id": "LSttEXuyNA1X",
        "colab_type": "code",
        "colab": {
          "base_uri": "https://localhost:8080/",
          "height": 34
        },
        "outputId": "87460192-8de4-4b60-8b7a-91c9c9e93728"
      },
      "source": [
        "str=(\"apple\")\n",
        "print(str)"
      ],
      "execution_count": 2,
      "outputs": [
        {
          "output_type": "stream",
          "text": [
            "apple\n"
          ],
          "name": "stdout"
        }
      ]
    },
    {
      "cell_type": "code",
      "metadata": {
        "id": "RQUHHgJsNfP-",
        "colab_type": "code",
        "colab": {
          "base_uri": "https://localhost:8080/",
          "height": 34
        },
        "outputId": "8c5c494e-29fc-46a5-b07f-f348382e3dc5"
      },
      "source": [
        "str1=('apple','orange','banana')\n",
        "print(str1[0])"
      ],
      "execution_count": 27,
      "outputs": [
        {
          "output_type": "stream",
          "text": [
            "apple\n"
          ],
          "name": "stdout"
        }
      ]
    },
    {
      "cell_type": "code",
      "metadata": {
        "id": "Ez5GGBNHNu2i",
        "colab_type": "code",
        "colab": {
          "base_uri": "https://localhost:8080/",
          "height": 34
        },
        "outputId": "e53c0f1c-22e3-4484-f904-00e4f941a553"
      },
      "source": [
        "str1=('apple')\n",
        "print(str[1])"
      ],
      "execution_count": 6,
      "outputs": [
        {
          "output_type": "stream",
          "text": [
            "p\n"
          ],
          "name": "stdout"
        }
      ]
    },
    {
      "cell_type": "code",
      "metadata": {
        "id": "0tEBSEyWOBk_",
        "colab_type": "code",
        "colab": {
          "base_uri": "https://localhost:8080/",
          "height": 34
        },
        "outputId": "e1db9975-9052-4ddb-d709-a78f734b54ff"
      },
      "source": [
        "str1=('welcome')\n",
        "str2=(' everyone')\n",
        "print(str1 +str2)"
      ],
      "execution_count": 9,
      "outputs": [
        {
          "output_type": "stream",
          "text": [
            "welcome everyone\n"
          ],
          "name": "stdout"
        }
      ]
    },
    {
      "cell_type": "code",
      "metadata": {
        "id": "MwOZAZUZO3K9",
        "colab_type": "code",
        "colab": {
          "base_uri": "https://localhost:8080/",
          "height": 34
        },
        "outputId": "1d2d0a9b-c47e-4cd5-b66c-5bf86458c8ff"
      },
      "source": [
        "str1=('welcome')\n",
        "str2=(' everyone')\n",
        "print('hai' +str2)"
      ],
      "execution_count": 10,
      "outputs": [
        {
          "output_type": "stream",
          "text": [
            "hai everyone\n"
          ],
          "name": "stdout"
        }
      ]
    },
    {
      "cell_type": "code",
      "metadata": {
        "id": "gbJ2dc8KPTw2",
        "colab_type": "code",
        "colab": {
          "base_uri": "https://localhost:8080/",
          "height": 34
        },
        "outputId": "60cd374e-0d17-4800-a183-d482fea77296"
      },
      "source": [
        "str1=('welcome')\n",
        "\n",
        "print( str1[0:3] ) "
      ],
      "execution_count": 24,
      "outputs": [
        {
          "output_type": "stream",
          "text": [
            "wel\n"
          ],
          "name": "stdout"
        }
      ]
    },
    {
      "cell_type": "code",
      "metadata": {
        "id": "y6A6l9tbQ-tZ",
        "colab_type": "code",
        "colab": {
          "base_uri": "https://localhost:8080/",
          "height": 34
        },
        "outputId": "8bdc293e-b148-4a3b-af49-077787b0e518"
      },
      "source": [
        "str1=('welcome')\n",
        "\n",
        "print( str1[0:] ) "
      ],
      "execution_count": 23,
      "outputs": [
        {
          "output_type": "stream",
          "text": [
            "welcome\n"
          ],
          "name": "stdout"
        }
      ]
    },
    {
      "cell_type": "code",
      "metadata": {
        "id": "8IX1-cM6RwL2",
        "colab_type": "code",
        "colab": {
          "base_uri": "https://localhost:8080/",
          "height": 50
        },
        "outputId": "7ece1901-14b5-4868-f9b3-9fbb572c0053"
      },
      "source": [
        "str1=('  welcome  ')\n",
        "\n",
        "print( str1 ) \n",
        "print( str1.strip() )"
      ],
      "execution_count": 28,
      "outputs": [
        {
          "output_type": "stream",
          "text": [
            "  welcome  \n",
            "welcome\n"
          ],
          "name": "stdout"
        }
      ]
    },
    {
      "cell_type": "code",
      "metadata": {
        "id": "TAzwpg-mSxlJ",
        "colab_type": "code",
        "colab": {
          "base_uri": "https://localhost:8080/",
          "height": 34
        },
        "outputId": "5710bb05-c7f4-436c-e6f8-6e2c258f979f"
      },
      "source": [
        "str1=('welcome')\n",
        "\n",
        "print( str1.upper() ) "
      ],
      "execution_count": 30,
      "outputs": [
        {
          "output_type": "stream",
          "text": [
            "WELCOME\n"
          ],
          "name": "stdout"
        }
      ]
    },
    {
      "cell_type": "code",
      "metadata": {
        "id": "REdQ2pTzTIBd",
        "colab_type": "code",
        "colab": {
          "base_uri": "https://localhost:8080/",
          "height": 34
        },
        "outputId": "f9ab206e-b41e-42af-89d0-c03402eae51b"
      },
      "source": [
        "str1=('WELCOME')\n",
        "\n",
        "print( str1.lower() ) "
      ],
      "execution_count": 32,
      "outputs": [
        {
          "output_type": "stream",
          "text": [
            "welcome\n"
          ],
          "name": "stdout"
        }
      ]
    },
    {
      "cell_type": "code",
      "metadata": {
        "id": "kitzEFsgTV0N",
        "colab_type": "code",
        "colab": {
          "base_uri": "https://localhost:8080/",
          "height": 34
        },
        "outputId": "cbc77cfc-4893-4b47-85e2-9147ffa98b58"
      },
      "source": [
        "str1=('welcome')\n",
        "\n",
        "print( str1.replace('w','a') ) "
      ],
      "execution_count": 33,
      "outputs": [
        {
          "output_type": "stream",
          "text": [
            "aelcome\n"
          ],
          "name": "stdout"
        }
      ]
    },
    {
      "cell_type": "code",
      "metadata": {
        "id": "GmbUnE-_UEzV",
        "colab_type": "code",
        "colab": {
          "base_uri": "https://localhost:8080/",
          "height": 34
        },
        "outputId": "bae9015e-ec81-4078-a058-bfac7ea0c856"
      },
      "source": [
        "str3= 'apple','orange','banana'\n",
        "x='apple' in str3\n",
        "print(x)"
      ],
      "execution_count": 39,
      "outputs": [
        {
          "output_type": "stream",
          "text": [
            "True\n"
          ],
          "name": "stdout"
        }
      ]
    },
    {
      "cell_type": "code",
      "metadata": {
        "id": "DV0uivgxVs13",
        "colab_type": "code",
        "colab": {
          "base_uri": "https://localhost:8080/",
          "height": 34
        },
        "outputId": "461a5b50-3e3c-4847-d9d6-1316de0b6dce"
      },
      "source": [
        "str3= 'apple','orange','banana'\n",
        "x='my' in str3\n",
        "print(x)"
      ],
      "execution_count": 40,
      "outputs": [
        {
          "output_type": "stream",
          "text": [
            "False\n"
          ],
          "name": "stdout"
        }
      ]
    },
    {
      "cell_type": "code",
      "metadata": {
        "id": "ulr8MddOVwuM",
        "colab_type": "code",
        "colab": {
          "base_uri": "https://localhost:8080/",
          "height": 34
        },
        "outputId": "6a7713c9-c764-4652-e76c-cd97e181fa20"
      },
      "source": [
        "name='limi'\n",
        "txt='my name is {}'\n",
        "print (txt.format(name))\n"
      ],
      "execution_count": 42,
      "outputs": [
        {
          "output_type": "stream",
          "text": [
            "my name is limi\n"
          ],
          "name": "stdout"
        }
      ]
    },
    {
      "cell_type": "code",
      "metadata": {
        "id": "etRs-99BWcf-",
        "colab_type": "code",
        "colab": {
          "base_uri": "https://localhost:8080/",
          "height": 34
        },
        "outputId": "e7e8e41c-c439-421b-d660-b3709a144693"
      },
      "source": [
        "name='limi'\n",
        "age=23\n",
        "txt='my name is {} and age is {}'\n",
        "print (txt.format(name,age))"
      ],
      "execution_count": 44,
      "outputs": [
        {
          "output_type": "stream",
          "text": [
            "my name is limi and age is 23\n"
          ],
          "name": "stdout"
        }
      ]
    }
  ]
}